{
 "cells": [
  {
   "cell_type": "markdown",
   "metadata": {},
   "source": [
    "#### https://medium.com/@ageitgey/python-3-quick-tip-the-easy-way-to-deal-with-file-paths-on-windows-mac-and-linux-11a072b58d5f"
   ]
  },
  {
   "cell_type": "markdown",
   "metadata": {},
   "source": [
    "#### https://medium.com/@ageitgey/python-3-quick-tip-the-easy-way-to-deal-with-file-paths-on-windows-mac-and-linux-11a072b58d5f"
   ]
  },
  {
   "cell_type": "code",
   "execution_count": 2,
   "metadata": {},
   "outputs": [],
   "source": [
    "from pathlib import Path"
   ]
  },
  {
   "cell_type": "code",
   "execution_count": 3,
   "metadata": {},
   "outputs": [
    {
     "data": {
      "text/plain": [
       "False"
      ]
     },
     "execution_count": 3,
     "metadata": {},
     "output_type": "execute_result"
    }
   ],
   "source": [
    "Path('docs').exists()"
   ]
  },
  {
   "cell_type": "code",
   "execution_count": 4,
   "metadata": {},
   "outputs": [],
   "source": [
    "Path('docs').mkdir()"
   ]
  },
  {
   "cell_type": "code",
   "execution_count": 5,
   "metadata": {},
   "outputs": [
    {
     "name": "stdout",
     "output_type": "stream",
     "text": [
      "Best_python_threads_stackoverflow.ipynb  Pathlib.ipynb\r\n",
      "docs\t\t\t\t\t Python_generator.ipynb\r\n",
      "lambda_map_filter.ipynb\t\t\t Sequence_Set_Dict_data_types.ipynb\r\n"
     ]
    }
   ],
   "source": [
    "! ls"
   ]
  },
  {
   "cell_type": "code",
   "execution_count": 9,
   "metadata": {},
   "outputs": [],
   "source": [
    "! touch docs/README.md"
   ]
  },
  {
   "cell_type": "code",
   "execution_count": 10,
   "metadata": {},
   "outputs": [
    {
     "data": {
      "text/plain": [
       "True"
      ]
     },
     "execution_count": 10,
     "metadata": {},
     "output_type": "execute_result"
    }
   ],
   "source": [
    "Path('docs').is_dir()"
   ]
  },
  {
   "cell_type": "code",
   "execution_count": 11,
   "metadata": {},
   "outputs": [
    {
     "data": {
      "text/plain": [
       "<generator object Path.glob at 0x7fe1009d1af0>"
      ]
     },
     "execution_count": 11,
     "metadata": {},
     "output_type": "execute_result"
    }
   ],
   "source": [
    "Path('docs').glob('*.md')"
   ]
  },
  {
   "cell_type": "code",
   "execution_count": 12,
   "metadata": {},
   "outputs": [
    {
     "data": {
      "text/plain": [
       "[PosixPath('docs/README.md')]"
      ]
     },
     "execution_count": 12,
     "metadata": {},
     "output_type": "execute_result"
    }
   ],
   "source": [
    "[item for item in Path('docs').glob('*.md')]"
   ]
  },
  {
   "cell_type": "code",
   "execution_count": 13,
   "metadata": {},
   "outputs": [
    {
     "data": {
      "text/plain": [
       "True"
      ]
     },
     "execution_count": 13,
     "metadata": {},
     "output_type": "execute_result"
    }
   ],
   "source": [
    "Path('docs', 'README.md').is_file()"
   ]
  },
  {
   "cell_type": "code",
   "execution_count": 14,
   "metadata": {},
   "outputs": [
    {
     "data": {
      "text/plain": [
       "PosixPath('docs/README.md')"
      ]
     },
     "execution_count": 14,
     "metadata": {},
     "output_type": "execute_result"
    }
   ],
   "source": [
    "Path('docs').joinpath('README.md')"
   ]
  },
  {
   "cell_type": "code",
   "execution_count": 16,
   "metadata": {},
   "outputs": [
    {
     "data": {
      "text/plain": [
       "''"
      ]
     },
     "execution_count": 16,
     "metadata": {},
     "output_type": "execute_result"
    }
   ],
   "source": [
    "Path('docs').joinpath('README.md').open('r').read()"
   ]
  },
  {
   "cell_type": "code",
   "execution_count": 17,
   "metadata": {},
   "outputs": [
    {
     "data": {
      "text/plain": [
       "14"
      ]
     },
     "execution_count": 17,
     "metadata": {},
     "output_type": "execute_result"
    }
   ],
   "source": [
    "Path('docs').joinpath('README.md').write_text('Read the Docs!')"
   ]
  },
  {
   "cell_type": "code",
   "execution_count": 19,
   "metadata": {},
   "outputs": [
    {
     "data": {
      "text/plain": [
       "'Read the Docs!'"
      ]
     },
     "execution_count": 19,
     "metadata": {},
     "output_type": "execute_result"
    }
   ],
   "source": [
    "Path('docs').joinpath('README.md').read_text()"
   ]
  },
  {
   "cell_type": "code",
   "execution_count": 27,
   "metadata": {},
   "outputs": [
    {
     "name": "stdout",
     "output_type": "stream",
     "text": [
      ".\n"
     ]
    }
   ],
   "source": [
    "import pathlib\n",
    "usr = Path('./')\n",
    "print(usr)\n"
   ]
  },
  {
   "cell_type": "code",
   "execution_count": 28,
   "metadata": {},
   "outputs": [
    {
     "name": "stdout",
     "output_type": "stream",
     "text": [
      "docs\n"
     ]
    }
   ],
   "source": [
    "usr_local = usr / 'docs'\n",
    "print(usr_local)"
   ]
  },
  {
   "cell_type": "code",
   "execution_count": 29,
   "metadata": {},
   "outputs": [],
   "source": [
    "user_readm = usr_local / 'README.md'"
   ]
  },
  {
   "cell_type": "code",
   "execution_count": 30,
   "metadata": {},
   "outputs": [
    {
     "name": "stdout",
     "output_type": "stream",
     "text": [
      "README.md\n",
      ".md\n",
      "README\n"
     ]
    }
   ],
   "source": [
    "print(user_readm.name)\n",
    "# prints \"raw_data.txt\"\n",
    "\n",
    "print(user_readm.suffix)\n",
    "# prints \"txt\"\n",
    "\n",
    "print(user_readm.stem)\n",
    "# prints \"raw_data\""
   ]
  },
  {
   "cell_type": "code",
   "execution_count": 31,
   "metadata": {},
   "outputs": [
    {
     "name": "stdout",
     "output_type": "stream",
     "text": [
      "Yay, the file exists!\n"
     ]
    }
   ],
   "source": [
    "if not user_readm.exists():\n",
    "    print(\"Oops, file doesn't exist!\")\n",
    "else:\n",
    "    print(\"Yay, the file exists!\")"
   ]
  },
  {
   "cell_type": "code",
   "execution_count": 37,
   "metadata": {},
   "outputs": [],
   "source": [
    "filename = user_readm / '..'/'..'"
   ]
  },
  {
   "cell_type": "code",
   "execution_count": 38,
   "metadata": {},
   "outputs": [
    {
     "data": {
      "text/plain": [
       "PosixPath('/mnt/d/Python_important_concept/docs/README.md/../..')"
      ]
     },
     "execution_count": 38,
     "metadata": {},
     "output_type": "execute_result"
    }
   ],
   "source": [
    "filename.absolute()"
   ]
  },
  {
   "cell_type": "code",
   "execution_count": 39,
   "metadata": {},
   "outputs": [
    {
     "name": "stdout",
     "output_type": "stream",
     "text": [
      "Best_python_threads_stackoverflow.ipynb  Pathlib.ipynb\r\n",
      "docs\t\t\t\t\t Python_generator.ipynb\r\n",
      "lambda_map_filter.ipynb\t\t\t Sequence_Set_Dict_data_types.ipynb\r\n"
     ]
    }
   ],
   "source": [
    "! ls {filename.resolve()}"
   ]
  },
  {
   "cell_type": "code",
   "execution_count": 42,
   "metadata": {},
   "outputs": [
    {
     "name": "stdout",
     "output_type": "stream",
     "text": [
      "Best_python_threads_stackoverflow.ipynb  Pathlib.ipynb\r\n",
      "docs\t\t\t\t\t Python_generator.ipynb\r\n",
      "lambda_map_filter.ipynb\t\t\t Sequence_Set_Dict_data_types.ipynb\r\n"
     ]
    }
   ],
   "source": [
    "! ls ../Python_important_concept"
   ]
  },
  {
   "cell_type": "markdown",
   "metadata": {},
   "source": [
    "#### https://pymotw.com/3/pathlib/"
   ]
  },
  {
   "cell_type": "code",
   "execution_count": 43,
   "metadata": {},
   "outputs": [
    {
     "name": "stdout",
     "output_type": "stream",
     "text": [
      "/mnt/d/Python_important_concept/.git\n",
      "/mnt/d/Python_important_concept/.ipynb_checkpoints\n",
      "/mnt/d/Python_important_concept/Best_python_threads_stackoverflow.ipynb\n",
      "/mnt/d/Python_important_concept/docs\n",
      "/mnt/d/Python_important_concept/lambda_map_filter.ipynb\n",
      "/mnt/d/Python_important_concept/Pathlib.ipynb\n",
      "/mnt/d/Python_important_concept/Python_generator.ipynb\n",
      "/mnt/d/Python_important_concept/Sequence_Set_Dict_data_types.ipynb\n"
     ]
    }
   ],
   "source": [
    "for f in filename.resolve().iterdir():\n",
    "    print(f)"
   ]
  },
  {
   "cell_type": "code",
   "execution_count": 44,
   "metadata": {},
   "outputs": [
    {
     "name": "stdout",
     "output_type": "stream",
     "text": [
      "/mnt/d/Python_important_concept/Best_python_threads_stackoverflow.ipynb\n",
      "/mnt/d/Python_important_concept/lambda_map_filter.ipynb\n",
      "/mnt/d/Python_important_concept/Pathlib.ipynb\n",
      "/mnt/d/Python_important_concept/Python_generator.ipynb\n",
      "/mnt/d/Python_important_concept/Sequence_Set_Dict_data_types.ipynb\n"
     ]
    }
   ],
   "source": [
    "for f in filename.resolve().glob('*.ipynb'):\n",
    "    print(f)"
   ]
  },
  {
   "cell_type": "code",
   "execution_count": 45,
   "metadata": {},
   "outputs": [
    {
     "name": "stdout",
     "output_type": "stream",
     "text": [
      "/mnt/d/Python_important_concept/docs/README.md\n"
     ]
    }
   ],
   "source": [
    "for f in filename.resolve().rglob('*.md'):\n",
    "    print(f)"
   ]
  },
  {
   "cell_type": "code",
   "execution_count": 46,
   "metadata": {},
   "outputs": [
    {
     "name": "stdout",
     "output_type": "stream",
     "text": [
      "read from open(): 'This is the content'\n",
      "read_text(): 'This is the content'\n"
     ]
    }
   ],
   "source": [
    "f = user_readm\n",
    "\n",
    "f.write_bytes('This is the content'.encode('utf-8'))\n",
    "\n",
    "with f.open('r', encoding='utf-8') as handle:\n",
    "    print('read from open(): {!r}'.format(handle.read()))\n",
    "\n",
    "print('read_text(): {!r}'.format(f.read_text('utf-8')))"
   ]
  },
  {
   "cell_type": "code",
   "execution_count": 48,
   "metadata": {},
   "outputs": [
    {
     "name": "stdout",
     "output_type": "stream",
     "text": [
      "docs/README.md/../..:\n",
      "  Size: 19\n",
      "  Permissions: 0o100777\n",
      "  Owner: 1000\n",
      "  Device: 18\n",
      "  Created      : Sun Dec 23 19:45:13 2018\n",
      "  Last modified: Sun Dec 23 19:44:50 2018\n",
      "  Last accessed: Sun Dec 23 19:45:18 2018\n"
     ]
    }
   ],
   "source": [
    "import time\n",
    "p = user_readm\n",
    "stat_info = p.stat()\n",
    "\n",
    "print('{}:'.format(filename))\n",
    "print('  Size:', stat_info.st_size)\n",
    "print('  Permissions:', oct(stat_info.st_mode))\n",
    "print('  Owner:', stat_info.st_uid)\n",
    "print('  Device:', stat_info.st_dev)\n",
    "print('  Created      :', time.ctime(stat_info.st_ctime))\n",
    "print('  Last modified:', time.ctime(stat_info.st_mtime))\n",
    "print('  Last accessed:', time.ctime(stat_info.st_atime))"
   ]
  },
  {
   "cell_type": "code",
   "execution_count": 49,
   "metadata": {},
   "outputs": [],
   "source": [
    "### like p.mkdir() you can use p.rmdir() for deletion"
   ]
  },
  {
   "cell_type": "markdown",
   "metadata": {},
   "source": [
    "https://wooptoo.com/blog/python-pathlib/"
   ]
  },
  {
   "cell_type": "code",
   "execution_count": 50,
   "metadata": {},
   "outputs": [],
   "source": [
    "new_name = user_readm.with_name(\"readme.md\")"
   ]
  },
  {
   "cell_type": "code",
   "execution_count": 52,
   "metadata": {},
   "outputs": [
    {
     "data": {
      "text/plain": [
       "PosixPath('docs/readme.md')"
      ]
     },
     "execution_count": 52,
     "metadata": {},
     "output_type": "execute_result"
    }
   ],
   "source": [
    "new_name"
   ]
  },
  {
   "cell_type": "code",
   "execution_count": 53,
   "metadata": {},
   "outputs": [],
   "source": [
    "user_readm.rename(new_name)"
   ]
  },
  {
   "cell_type": "code",
   "execution_count": 55,
   "metadata": {},
   "outputs": [
    {
     "data": {
      "text/plain": [
       "True"
      ]
     },
     "execution_count": 55,
     "metadata": {},
     "output_type": "execute_result"
    }
   ],
   "source": [
    "new_name.exists()"
   ]
  },
  {
   "cell_type": "code",
   "execution_count": 57,
   "metadata": {},
   "outputs": [
    {
     "data": {
      "text/plain": [
       "False"
      ]
     },
     "execution_count": 57,
     "metadata": {},
     "output_type": "execute_result"
    }
   ],
   "source": [
    "user_readm.exists()"
   ]
  },
  {
   "cell_type": "code",
   "execution_count": 60,
   "metadata": {},
   "outputs": [
    {
     "data": {
      "text/plain": [
       "[PosixPath('docs'), PosixPath('.')]"
      ]
     },
     "execution_count": 60,
     "metadata": {},
     "output_type": "execute_result"
    }
   ],
   "source": [
    "list(new_name.parents)"
   ]
  },
  {
   "cell_type": "code",
   "execution_count": 61,
   "metadata": {},
   "outputs": [
    {
     "data": {
      "text/plain": [
       "PosixPath('/mnt/d/Python_important_concept')"
      ]
     },
     "execution_count": 61,
     "metadata": {},
     "output_type": "execute_result"
    }
   ],
   "source": [
    "Path.cwd()"
   ]
  },
  {
   "cell_type": "markdown",
   "metadata": {},
   "source": [
    "#### http://pbpython.com/pathlib-intro.html"
   ]
  },
  {
   "cell_type": "code",
   "execution_count": 62,
   "metadata": {},
   "outputs": [
    {
     "data": {
      "text/html": [
       "<div>\n",
       "<style scoped>\n",
       "    .dataframe tbody tr th:only-of-type {\n",
       "        vertical-align: middle;\n",
       "    }\n",
       "\n",
       "    .dataframe tbody tr th {\n",
       "        vertical-align: top;\n",
       "    }\n",
       "\n",
       "    .dataframe thead th {\n",
       "        text-align: right;\n",
       "    }\n",
       "</style>\n",
       "<table border=\"1\" class=\"dataframe\">\n",
       "  <thead>\n",
       "    <tr style=\"text-align: right;\">\n",
       "      <th></th>\n",
       "      <th>File_Name</th>\n",
       "      <th>Parent</th>\n",
       "      <th>Created</th>\n",
       "    </tr>\n",
       "  </thead>\n",
       "  <tbody>\n",
       "    <tr>\n",
       "      <th>0</th>\n",
       "      <td>.git</td>\n",
       "      <td>/mnt/d/Python_important_concept</td>\n",
       "      <td>Tue Sep 25 00:20:30 2018</td>\n",
       "    </tr>\n",
       "    <tr>\n",
       "      <th>1</th>\n",
       "      <td>.ipynb_checkpoints</td>\n",
       "      <td>/mnt/d/Python_important_concept</td>\n",
       "      <td>Sun Dec 23 19:06:27 2018</td>\n",
       "    </tr>\n",
       "    <tr>\n",
       "      <th>2</th>\n",
       "      <td>Best_python_threads_stackoverflow.ipynb</td>\n",
       "      <td>/mnt/d/Python_important_concept</td>\n",
       "      <td>Tue Sep 25 00:19:30 2018</td>\n",
       "    </tr>\n",
       "    <tr>\n",
       "      <th>3</th>\n",
       "      <td>lambda_map_filter.ipynb</td>\n",
       "      <td>/mnt/d/Python_important_concept</td>\n",
       "      <td>Tue Sep 25 00:18:42 2018</td>\n",
       "    </tr>\n",
       "    <tr>\n",
       "      <th>4</th>\n",
       "      <td>Pathlib.ipynb</td>\n",
       "      <td>/mnt/d/Python_important_concept</td>\n",
       "      <td>Sun Dec 23 20:02:13 2018</td>\n",
       "    </tr>\n",
       "  </tbody>\n",
       "</table>\n",
       "</div>"
      ],
      "text/plain": [
       "                                 File_Name                           Parent  \\\n",
       "0                                     .git  /mnt/d/Python_important_concept   \n",
       "1                       .ipynb_checkpoints  /mnt/d/Python_important_concept   \n",
       "2  Best_python_threads_stackoverflow.ipynb  /mnt/d/Python_important_concept   \n",
       "3                  lambda_map_filter.ipynb  /mnt/d/Python_important_concept   \n",
       "4                            Pathlib.ipynb  /mnt/d/Python_important_concept   \n",
       "\n",
       "                    Created  \n",
       "0  Tue Sep 25 00:20:30 2018  \n",
       "1  Sun Dec 23 19:06:27 2018  \n",
       "2  Tue Sep 25 00:19:30 2018  \n",
       "3  Tue Sep 25 00:18:42 2018  \n",
       "4  Sun Dec 23 20:02:13 2018  "
      ]
     },
     "execution_count": 62,
     "metadata": {},
     "output_type": "execute_result"
    }
   ],
   "source": [
    "import pandas as pd\n",
    "from pathlib import Path\n",
    "import time\n",
    "\n",
    "p = Path.cwd()\n",
    "all_files = []\n",
    "for i in p.rglob('*.*'):\n",
    "    all_files.append((i.name, i.parent, time.ctime(i.stat().st_ctime)))\n",
    "\n",
    "columns = [\"File_Name\", \"Parent\", \"Created\"]\n",
    "df = pd.DataFrame.from_records(all_files, columns=columns)\n",
    "\n",
    "df.head()"
   ]
  },
  {
   "cell_type": "code",
   "execution_count": null,
   "metadata": {},
   "outputs": [],
   "source": []
  }
 ],
 "metadata": {
  "kernelspec": {
   "display_name": "Python 3",
   "language": "python",
   "name": "python3"
  },
  "language_info": {
   "codemirror_mode": {
    "name": "ipython",
    "version": 3
   },
   "file_extension": ".py",
   "mimetype": "text/x-python",
   "name": "python",
   "nbconvert_exporter": "python",
   "pygments_lexer": "ipython3",
   "version": "3.5.2"
  }
 },
 "nbformat": 4,
 "nbformat_minor": 2
}
