{
 "cells": [
  {
   "cell_type": "markdown",
   "metadata": {},
   "source": [
    "#### https://davidhamann.de/2017/04/22/debugging-jupyter-notebooks/"
   ]
  },
  {
   "cell_type": "code",
   "execution_count": null,
   "metadata": {},
   "outputs": [],
   "source": [
    "def add_to_life_universe_everything(x):\n",
    "    answer = 42\n",
    "    import pdb; pdb.set_trace()\n",
    "    answer += x\n",
    "    \n",
    "    return answer\n",
    "\n",
    "add_to_life_universe_everything(12)"
   ]
  },
  {
   "cell_type": "code",
   "execution_count": null,
   "metadata": {},
   "outputs": [],
   "source": [
    "def add_to_life_universe_everything(x):\n",
    "    answer = 42\n",
    "    from IPython.core.debugger import Tracer; Tracer()() \n",
    "    answer += x\n",
    "    \n",
    "    return answer\n",
    "\n",
    "add_to_life_universe_everything(12)"
   ]
  },
  {
   "cell_type": "code",
   "execution_count": null,
   "metadata": {},
   "outputs": [],
   "source": [
    "from IPython.core.debugger import set_trace\n",
    "\n",
    "def add_to_life_universe_everything(x):\n",
    "    answer = 42\n",
    "    set_trace()\n",
    "    answer += x\n",
    "    \n",
    "    return answer\n",
    "\n",
    "add_to_life_universe_everything(12)"
   ]
  },
  {
   "cell_type": "markdown",
   "metadata": {},
   "source": [
    "http://wangchuan.github.io/coding/2017/07/12/ipdb-cheat-sheet.html"
   ]
  },
  {
   "cell_type": "code",
   "execution_count": null,
   "metadata": {},
   "outputs": [],
   "source": [
    "'''\n",
    "\n",
    "Command CheatSheet\n",
    "h(elp)\n",
    "w(here)\n",
    "d(own)\n",
    "u(p)\n",
    "b(reak): [ ([filename:]lineno | function) [, condition] ]\n",
    "tbreak: [ ([filename:]lineno | function) [, condition] ]\n",
    "cl(ear): [bpnumber [bpnumber ...] ]\n",
    "disable bpnumber: [bpnumber ...]\n",
    "enable bpnumber: [bpnumber ...]\n",
    "ignore bpnumber count\n",
    "condition bpnumber condition\n",
    "s(tep)\n",
    "n(ext)\n",
    "unt(il)\n",
    "r(eturn)\n",
    "run [args ...]\n",
    "c(ont(inue))\n",
    "l(ist): [first [,last]]\n",
    "a(rgs)\n",
    "p expression\n",
    "\n",
    "\n",
    "'''\n",
    "'ok'"
   ]
  },
  {
   "cell_type": "code",
   "execution_count": null,
   "metadata": {},
   "outputs": [],
   "source": [
    "from IPython.core.debugger import set_trace\n",
    "%pdb\n",
    "def devideByZero(k):\n",
    "    return 12 / k\n",
    "\n",
    "def caller(d):\n",
    "    k = d\n",
    "    return devideByZero(k)\n",
    "\n",
    "caller(0)"
   ]
  },
  {
   "cell_type": "markdown",
   "metadata": {},
   "source": [
    "#### https://stackoverflow.com/questions/242485/starting-python-debugger-automatically-on-error"
   ]
  },
  {
   "cell_type": "code",
   "execution_count": 1,
   "metadata": {},
   "outputs": [
    {
     "ename": "ZeroDivisionError",
     "evalue": "division by zero",
     "output_type": "error",
     "traceback": [
      "\u001b[0;31m---------------------------------------------------------------------------\u001b[0m",
      "\u001b[0;31mZeroDivisionError\u001b[0m                         Traceback (most recent call last)",
      "\u001b[0;32m<ipython-input-1-27d19d12ace3>\u001b[0m in \u001b[0;36m<module>\u001b[0;34m()\u001b[0m\n\u001b[1;32m      6\u001b[0m         \u001b[0mprev_i\u001b[0m \u001b[0;34m=\u001b[0m \u001b[0mi\u001b[0m\u001b[0;34m\u001b[0m\u001b[0m\n\u001b[1;32m      7\u001b[0m     \u001b[0;32melse\u001b[0m\u001b[0;34m:\u001b[0m\u001b[0;34m\u001b[0m\u001b[0m\n\u001b[0;32m----> 8\u001b[0;31m         \u001b[0mresult\u001b[0m \u001b[0;34m=\u001b[0m \u001b[0mprev_i\u001b[0m\u001b[0;34m/\u001b[0m\u001b[0mi\u001b[0m\u001b[0;34m\u001b[0m\u001b[0m\n\u001b[0m",
      "\u001b[0;31mZeroDivisionError\u001b[0m: division by zero"
     ]
    }
   ],
   "source": [
    "testlist = [1,2,3,4,5, 0]\n",
    "\n",
    "prev_i = None\n",
    "for i in testlist:\n",
    "    if not prev_i:\n",
    "        prev_i = i\n",
    "    else:\n",
    "        result = prev_i/i"
   ]
  },
  {
   "cell_type": "code",
   "execution_count": 2,
   "metadata": {},
   "outputs": [
    {
     "data": {
      "text/plain": [
       "1"
      ]
     },
     "execution_count": 2,
     "metadata": {},
     "output_type": "execute_result"
    }
   ],
   "source": [
    "prev_i"
   ]
  },
  {
   "cell_type": "code",
   "execution_count": 3,
   "metadata": {},
   "outputs": [
    {
     "data": {
      "text/plain": [
       "0"
      ]
     },
     "execution_count": 3,
     "metadata": {},
     "output_type": "execute_result"
    }
   ],
   "source": [
    "i"
   ]
  },
  {
   "cell_type": "code",
   "execution_count": null,
   "metadata": {},
   "outputs": [],
   "source": []
  }
 ],
 "metadata": {
  "kernelspec": {
   "display_name": "Python 3",
   "language": "python",
   "name": "python3"
  },
  "language_info": {
   "codemirror_mode": {
    "name": "ipython",
    "version": 3
   },
   "file_extension": ".py",
   "mimetype": "text/x-python",
   "name": "python",
   "nbconvert_exporter": "python",
   "pygments_lexer": "ipython3",
   "version": "3.5.2"
  }
 },
 "nbformat": 4,
 "nbformat_minor": 2
}
